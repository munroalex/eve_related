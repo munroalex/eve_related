{
  "cells": [
    {
      "cell_type": "markdown",
      "metadata": {
        "id": "view-in-github",
        "colab_type": "text"
      },
      "source": [
        "<a href=\"https://colab.research.google.com/github/munroalex/eve_related/blob/master/eveskillboard_setup.ipynb\" target=\"_parent\"><img src=\"https://colab.research.google.com/assets/colab-badge.svg\" alt=\"Open In Colab\"/></a>"
      ]
    },
    {
      "cell_type": "markdown",
      "source": [
        "Setting up the API calls required for eveskillboard."
      ],
      "metadata": {
        "id": "JXjvVnRmA4sp"
      }
    },
    {
      "cell_type": "code",
      "source": [
        "# Imports required\n",
        "import numpy as np\n",
        "import json\n",
        "import pandas as pd\n",
        "import base64\n",
        "import requests\n",
        "import time\n",
        "from requests.exceptions import HTTPError"
      ],
      "metadata": {
        "id": "xcxKpk8FA_qN"
      },
      "execution_count": 1,
      "outputs": []
    },
    {
      "cell_type": "code",
      "source": [
        "# Define the scopes required here, ensure they are matching with the ones on your CCP developer application\n",
        "scopes = [\"publicData\", \n",
        "          \"esi-location.read_location.v1\", \n",
        "          \"esi-location.read_ship_type.v1\", \n",
        "          \"esi-skills.read_skills.v1\", \n",
        "          \"esi-skills.read_skillqueue.v1\", \n",
        "          \"esi-wallet.read_character_wallet.v1\", \n",
        "          \"esi-clones.read_clones.v1\", \n",
        "          \"esi-characters.read_loyalty.v1\",\n",
        "          \"esi-characters.read_standings.v1\",\n",
        "          \"esi-clones.read_implants.v1\",\n",
        "          ]\n",
        "# Base Login server URL\n",
        "login_server_base_url = \"login.eveonline.com\"\n",
        "# Response type, can be either token or code, we are using code(More information can be found here - https://oauthlib.readthedocs.io/en/latest/oauth2/grants/implicit.html)\n",
        "response_type = 'code'\n",
        "# State for CSRF\n",
        "state = 'thisshouldberandomeachrequest'\n",
        "# Redirect URL, must be the same as the redirect on your CCP developer application\n",
        "redirect_uri=\"http://localhost:65432/callback/\"\n",
        "# Client ID from CCP developer application goes here\n",
        "client_id=\"22ea0b7cf4624a569c1eef3602324291\"\n",
        "# Secret Key from CCP developer application goes here\n",
        "secret_key=\"9ub1OG0dtSJEzksDcIJC95xhGU4VIkMQbcmdTtQh\"\n",
        "# Combining Client ID and Secret Key to base64 encoded header\n",
        "secret_id = client_id + \":\" + secret_key\n",
        "auth_b64 = \"%s:%s\" % (client_id, secret_key)\n",
        "auth_b64 = base64.b64encode(auth_b64.encode('utf-8'))\n",
        "basic = auth_b64.decode('utf-8')\n",
        "# If you have it place the refresh token here, it will save having to log on everytime. Else leave blank and follow the link to login\n",
        "refresh_token = ''"
      ],
      "metadata": {
        "id": "jRzNNe9_BG9d"
      },
      "execution_count": 56,
      "outputs": []
    },
    {
      "cell_type": "code",
      "source": [
        "# Either refresh with the token provided or create a login URL for getting a new one.\n",
        "if refresh_token: \n",
        "    refresh = requests.post('https://login.eveonline.com/v2/oauth/token', headers={'Authorization':'Basic ' + basic, \"Content-Type\":\"application/x-www-form-urlencoded\"}, data={\"grant_type\":\"refresh_token\",\"refresh_token\":refresh_token})\n",
        "    print(refresh)\n",
        "    tokens = refresh.text\n",
        "else:\n",
        "    login_url = f\"https://{login_server_base_url}/v2/oauth/authorize?response_type={response_type}&redirect_uri={redirect_uri}&client_id={client_id}&scope=publicData+esi-location.read_location.v1+esi-location.read_ship_type.v1+esi-skills.read_skills.v1+esi-skills.read_skillqueue.v1+esi-wallet.read_character_wallet.v1+esi-clones.read_clones.v1+esi-characters.read_loyalty.v1+esi-characters.read_standings.v1+esi-clones.read_implants.v1+&state={state}\"\n",
        "    print(\"Please follow this link to login. copy the code from the url after login and paste back here.\")\n",
        "    print(login_url)\n",
        "    code = input()\n",
        "    tokens = requests.post(f'https://{login_server_base_url}/v2/oauth/token', headers={'Authorization':f'Basic {basic}', \"Content-Type\":\"application/x-www-form-urlencoded\"}, data={\"grant_type\":\"authorization_code\",\"code\":code})\n",
        "    tokens = tokens.text\n",
        "print(tokens)"
      ],
      "metadata": {
        "colab": {
          "base_uri": "https://localhost:8080/"
        },
        "id": "MiJSrdkHCTa1",
        "outputId": "435f88ad-3ab9-48b3-ce52-4b6fe74f0aeb"
      },
      "execution_count": 91,
      "outputs": [
        {
          "output_type": "stream",
          "name": "stdout",
          "text": [
            "<Response [200]>\n",
            ""
          ]
        }
      ]
    },
    {
      "cell_type": "code",
      "source": [
        "tokens = json.loads(tokens)\n",
        "tokens"
      ],
      "metadata": {
        "colab": {
          "base_uri": "https://localhost:8080/"
        },
        "id": "Co0fV7ccDCoL",
        "outputId": "6ab6c03d-1251-4485-b1a9-fbebc4431dfd"
      },
      "execution_count": 92,
      "outputs": [
        {
          "output_type": "execute_result",
          "data": {
            "text/plain": [
              "{'access_token': 'eyJhbGciOiJSUzI1NiIsImtpZCI6IkpXVC1TaWduYXR1cmUtS2V5IiwidHlwIjoiSldUIn0.eyJzY3AiOlsicHVibGljRGF0YSIsImVzaS1sb2NhdGlvbi5yZWFkX2xvY2F0aW9uLnYxIiwiZXNpLWxvY2F0aW9uLnJlYWRfc2hpcF90eXBlLnYxIiwiZXNpLXNraWxscy5yZWFkX3NraWxscy52MSIsImVzaS1za2lsbHMucmVhZF9za2lsbHF1ZXVlLnYxIiwiZXNpLXdhbGxldC5yZWFkX2NoYXJhY3Rlcl93YWxsZXQudjEiLCJlc2ktY2xvbmVzLnJlYWRfY2xvbmVzLnYxIiwiZXNpLWNoYXJhY3RlcnMucmVhZF9sb3lhbHR5LnYxIiwiZXNpLWNoYXJhY3RlcnMucmVhZF9zdGFuZGluZ3MudjEiLCJlc2ktY2xvbmVzLnJlYWRfaW1wbGFudHMudjEiXSwianRpIjoiMmE4Y2M4MmQtNmQ3OC00MDcxLTlhZTgtNTZhMGJjYjg5OGU4Iiwia2lkIjoiSldULVNpZ25hdHVyZS1LZXkiLCJzdWIiOiJDSEFSQUNURVI6RVZFOjkyNDk3MTAyIiwiYXpwIjoiMjJlYTBiN2NmNDYyNGE1NjljMWVlZjM2MDIzMjQyOTEiLCJ0ZW5hbnQiOiJ0cmFucXVpbGl0eSIsInRpZXIiOiJsaXZlIiwicmVnaW9uIjoid29ybGQiLCJuYW1lIjoiQ29yJ0VsIERhaGtlbiIsIm93bmVyIjoiTmtGaUE3akQwWWV6NW44bEN2cytYR2M3dTBJPSIsImV4cCI6MTYzOTY4MTYzOCwiaWF0IjoxNjM5NjgwNDM4LCJpc3MiOiJsb2dpbi5ldmVvbmxpbmUuY29tIn0.kTYH8gs8TN8LuR8j_z1pxnbyRj77bYlObj0Cy6xuREXYLL5bSWvctORIP03o19H32X-oeO5tA_3Sh3K3zMtpHUNFfPchYKmgYoSh3wYg01f_zX05SnlNqKIwTnpKSYcVuQbyHsZcNPjrS39vftIkJWIooOaj7c2FtCsM78hu3_ZM8RkHlYHNDQZK8n4l-S8dMU1o1_2GMPGMkxvUuXXLozeZQaNpib18EN7Eq8nOQkhoyBlSX1IJB6FEm5AqQT3cOdYO_EuCcDd9nuL8pIrWNh35Ip0TKFZMtmvFnB4QzW97kxhd-u59Wtwv3twoP6jaIztznmaKtCAhZ4qvTT2OtQ',\n",
              " 'expires_in': 1199,\n",
              " 'refresh_token': 'bn6DiU669UGz9c8EzP3Kfg==',\n",
              " 'token_type': 'Bearer'}"
            ]
          },
          "metadata": {},
          "execution_count": 92
        }
      ]
    },
    {
      "cell_type": "code",
      "source": [
        "verify = requests.get('https://login.eveonline.com/oauth/verify', headers={'Authorization': 'Bearer ' + tokens['access_token']})\n",
        "verify = verify.text\n",
        "info = json.loads(verify)\n",
        "info"
      ],
      "metadata": {
        "colab": {
          "base_uri": "https://localhost:8080/"
        },
        "id": "wJMf4U62Hojr",
        "outputId": "59c37034-d65e-4838-a71e-bcc22f8ba9e9"
      },
      "execution_count": 93,
      "outputs": [
        {
          "output_type": "execute_result",
          "data": {
            "text/plain": [
              "{'CharacterID': 92497102,\n",
              " 'CharacterName': \"Cor'El Dahken\",\n",
              " 'CharacterOwnerHash': 'NkFiA7jD0Yez5n8lCvs+XGc7u0I=',\n",
              " 'ExpiresOn': '2021-12-16T19:07:18',\n",
              " 'IntellectualProperty': 'EVE',\n",
              " 'Scopes': 'publicData esi-location.read_location.v1 esi-location.read_ship_type.v1 esi-skills.read_skills.v1 esi-skills.read_skillqueue.v1 esi-wallet.read_character_wallet.v1 esi-clones.read_clones.v1 esi-characters.read_loyalty.v1 esi-characters.read_standings.v1 esi-clones.read_implants.v1',\n",
              " 'TokenType': 'Character'}"
            ]
          },
          "metadata": {},
          "execution_count": 93
        }
      ]
    },
    {
      "cell_type": "markdown",
      "source": [
        "Display Character location.\n"
      ],
      "metadata": {
        "id": "8z8xkuG-Hs2k"
      }
    },
    {
      "cell_type": "code",
      "source": [
        "\n",
        "access_toke = tokens[\"access_token\"]\n",
        "#/characters/{character_id}/location/\n",
        "CHARACTER_LOCATION_URL = f\"https://esi.evetech.net/latest/characters/{info['CharacterID']}/location/\"\n",
        "\n",
        "req  = requests.get(\n",
        "            CHARACTER_LOCATION_URL,\n",
        "            headers={\"Authorization\": \"Bearer \" + access_toke},\n",
        "        )\n",
        "location = req.json()\n",
        "\n",
        "#/universe/systems/\n",
        "SOLAR_SYSTEM_URL = f\"https://esi.evetech.net/latest/universe/systems/{location['solar_system_id']}/\"\n",
        "req  = requests.get(\n",
        "            SOLAR_SYSTEM_URL,\n",
        "            headers={\"Authorization\": \"Bearer \" + access_toke},\n",
        "        )\n",
        "solar_system = req.json()\n",
        "print(f\"System: {solar_system['name']}\")\n",
        "\n",
        "#/universe/stations/{station_id}/\n",
        "STATION_URL = f\"https://esi.evetech.net/latest/universe/stations/{location['station_id']}/\"\n",
        "req  = requests.get(\n",
        "            STATION_URL,\n",
        "            headers={\"Authorization\": \"Bearer \" + access_toke},\n",
        "        )\n",
        "station = req.json()\n",
        "print(f\"Station: {station['name']}\")"
      ],
      "metadata": {
        "colab": {
          "base_uri": "https://localhost:8080/"
        },
        "id": "WGLZ_uu5Hqur",
        "outputId": "1a7a3019-5cb0-4889-84f7-7d2db92cdbb1"
      },
      "execution_count": 25,
      "outputs": [
        {
          "output_type": "stream",
          "name": "stdout",
          "text": [
            "System: Jita\n",
            "Station: Jita IV - Moon 4 - Caldari Navy Assembly Plant\n"
          ]
        }
      ]
    },
    {
      "cell_type": "markdown",
      "source": [
        "Display character ship.\n"
      ],
      "metadata": {
        "id": "ZCJFlthKKelE"
      }
    },
    {
      "cell_type": "code",
      "source": [
        "access_toke = tokens[\"access_token\"]\n",
        "#/characters/{character_id}/ship/\n",
        "\n",
        "CHARACTER_SHIP_URL = f\"https://esi.evetech.net/latest/characters/{info['CharacterID']}/ship/\"\n",
        "\n",
        "req  = requests.get(\n",
        "            CHARACTER_SHIP_URL,\n",
        "            headers={\"Authorization\": \"Bearer \" + access_toke},\n",
        "        )\n",
        "ship = req.json()\n",
        "print(f\"Ship Name: {ship['ship_name']}\")\n",
        "#/universe/types/{type_id}/\n",
        "UNIVERSE_TYPES_URL = f\"https://esi.evetech.net/latest/universe/types/{ship['ship_type_id']}/\"\n",
        "req  = requests.get(\n",
        "            UNIVERSE_TYPES_URL,\n",
        "            headers={\"Authorization\": \"Bearer \" + access_toke},\n",
        "        )\n",
        "ship_type = req.json()\n",
        "print(f\"Ship Type: {ship_type['name']}\")\n"
      ],
      "metadata": {
        "colab": {
          "base_uri": "https://localhost:8080/"
        },
        "id": "fi2xGpXWIQBj",
        "outputId": "f20f181e-6a3b-4042-e1a0-ed9a1f135ace"
      },
      "execution_count": 30,
      "outputs": [
        {
          "output_type": "stream",
          "name": "stdout",
          "text": [
            "Ship Name: Cor'El Dahken's Caldari Shuttle\n",
            "Ship Type: Caldari Shuttle\n"
          ]
        }
      ]
    },
    {
      "cell_type": "markdown",
      "source": [
        "Display character skills\n"
      ],
      "metadata": {
        "id": "B1fIw70WL5vv"
      }
    },
    {
      "cell_type": "code",
      "source": [
        "access_toke = tokens[\"access_token\"]\n",
        "#/characters/{character_id}/skills/\n",
        "\n",
        "CHARACTER_SKILLS_URL = f\"https://esi.evetech.net/latest/characters/{info['CharacterID']}/skills/\"\n",
        "\n",
        "req  = requests.get(\n",
        "            CHARACTER_SKILLS_URL,\n",
        "            headers={\"Authorization\": \"Bearer \" + access_toke},\n",
        "        )\n",
        "skills = req.json()\n",
        "print(skills['skills'])\n",
        "\n",
        "for skill in range(len(skills['skills'])):\n",
        "    UNIVERSE_TYPES_URL = f\"https://esi.evetech.net/latest/universe/types/{skills['skills'][skill]['skill_id']}/\"\n",
        "    req  = requests.get(\n",
        "            UNIVERSE_TYPES_URL,\n",
        "            headers={\"Authorization\": \"Bearer \" + access_toke},\n",
        "        )\n",
        "    skill_type = req.json()\n",
        "    print(f\"Skill: {skill_type['name']} - {skills['skills'][skill]['active_skill_level']}/{skills['skills'][skill]['trained_skill_level']}\")\n"
      ],
      "metadata": {
        "id": "GcyGsAiHKwLu"
      },
      "execution_count": null,
      "outputs": []
    },
    {
      "cell_type": "markdown",
      "source": [
        "Display Character skillqueue"
      ],
      "metadata": {
        "id": "C4l1X7hwSqdN"
      }
    },
    {
      "cell_type": "code",
      "source": [
        "access_toke = tokens[\"access_token\"]\n",
        "#/characters/{character_id}/skillqueue/\n",
        "CHARACTER_SKILLQ_URL = f\"https://esi.evetech.net/latest/characters/{info['CharacterID']}/skillqueue/\"\n",
        "\n",
        "req  = requests.get(\n",
        "            CHARACTER_SKILLQ_URL,\n",
        "            headers={\"Authorization\": \"Bearer \" + access_toke},\n",
        "        )\n",
        "skillq = req.json()\n",
        "print(\"Skill Queue\")\n",
        "for skill in range(len(skillq)):\n",
        "    UNIVERSE_TYPES_URL = f\"https://esi.evetech.net/latest/universe/types/{skillq[skill]['skill_id']}/\"\n",
        "    req  = requests.get(\n",
        "            UNIVERSE_TYPES_URL,\n",
        "            headers={\"Authorization\": \"Bearer \" + access_toke},\n",
        "        )\n",
        "    skillq_type = req.json()\n",
        "    \n",
        "    print(f\"{skillq_type['name']} Level {skillq[skill]['finished_level']}\")"
      ],
      "metadata": {
        "id": "PbpHx412MLP9",
        "outputId": "652d5192-9ef7-4ff6-be36-f36408c998f4",
        "colab": {
          "base_uri": "https://localhost:8080/"
        }
      },
      "execution_count": 75,
      "outputs": [
        {
          "output_type": "stream",
          "name": "stdout",
          "text": [
            "Skill Queue\n",
            "Scrapmetal Processing Level 5\n",
            "Uncommon Moon Ore Processing Level 1\n",
            "Uncommon Moon Ore Processing Level 2\n",
            "Uncommon Moon Ore Processing Level 3\n",
            "Uncommon Moon Ore Processing Level 4\n"
          ]
        }
      ]
    },
    {
      "cell_type": "markdown",
      "source": [
        "Display characters wallet balance."
      ],
      "metadata": {
        "id": "PqiJDn5Bd5GY"
      }
    },
    {
      "cell_type": "code",
      "source": [
        "#/characters/{character_id}/wallet/\n",
        "CHARACTER_WALLET_URL = f\"https://esi.evetech.net/latest/characters/{info['CharacterID']}/wallet/\"\n",
        "\n",
        "req  = requests.get(\n",
        "            CHARACTER_WALLET_URL,\n",
        "            headers={\"Authorization\": \"Bearer \" + access_toke},\n",
        "        )\n",
        "wallet = req.json()\n",
        "currency = \"${:,.2f}\". format(wallet)\n",
        "print(f\"Wallet Balance: {currency}\")"
      ],
      "metadata": {
        "id": "0I3lUgwmS70z",
        "outputId": "73005a3a-ffcf-45a4-dbd0-b942691001e0",
        "colab": {
          "base_uri": "https://localhost:8080/"
        }
      },
      "execution_count": 78,
      "outputs": [
        {
          "output_type": "stream",
          "name": "stdout",
          "text": [
            "Wallet Balance: $6,924,426,670.98\n"
          ]
        }
      ]
    },
    {
      "cell_type": "markdown",
      "source": [
        "Display characters clones."
      ],
      "metadata": {
        "id": "5u30w7Ale4o2"
      }
    },
    {
      "cell_type": "code",
      "source": [
        "access_toke = tokens[\"access_token\"]\n",
        "#/characters/{character_id}/clones/\n",
        "CHARACTER_CLONE_URL = f\"https://esi.evetech.net/latest/characters/{info['CharacterID']}/clones/\"\n",
        "\n",
        "req  = requests.get(\n",
        "            CHARACTER_CLONE_URL,\n",
        "            headers={\"Authorization\": \"Bearer \" + access_toke},\n",
        "        )\n",
        "clones = req.json()\n",
        "clones"
      ],
      "metadata": {
        "id": "lR6sKuf9d_hg",
        "outputId": "775a11b1-e8a9-4aa0-e35c-ab1c86d3f917",
        "colab": {
          "base_uri": "https://localhost:8080/"
        }
      },
      "execution_count": 79,
      "outputs": [
        {
          "output_type": "execute_result",
          "data": {
            "text/plain": [
              "{'home_location': {'location_id': 60003760, 'location_type': 'station'},\n",
              " 'jump_clones': [{'implants': [],\n",
              "   'jump_clone_id': 71772481,\n",
              "   'location_id': 60003886,\n",
              "   'location_type': 'station'}],\n",
              " 'last_clone_jump_date': '2021-05-19T20:21:22Z',\n",
              " 'last_station_change_date': '2018-03-19T20:10:13Z'}"
            ]
          },
          "metadata": {},
          "execution_count": 79
        }
      ]
    },
    {
      "cell_type": "code",
      "source": [
        "STATION_URL = f\"https://esi.evetech.net/latest/universe/stations/{clones['home_location']['location_id']}/\"\n",
        "req  = requests.get(\n",
        "            STATION_URL,\n",
        "            headers={\"Authorization\": \"Bearer \" + access_toke},\n",
        "        )\n",
        "home_station = req.json()\n",
        "print(f\"Character Home Location: {home_station['name']}\")\n",
        "for clone in range(len(clones['jump_clones'])):\n",
        "    STATION_URL = f\"https://esi.evetech.net/latest/universe/stations/{clones['jump_clones'][clone]['location_id']}/\"\n",
        "    req  = requests.get(\n",
        "            STATION_URL,\n",
        "            headers={\"Authorization\": \"Bearer \" + access_toke},\n",
        "        )\n",
        "    clone_station = req.json()\n",
        "    print(f\"Jump Clone Location: {clone_station['name']}\")\n",
        "    print(f\"Jump Clone Implants: {clones['jump_clones'][clone]['implants']}\")"
      ],
      "metadata": {
        "id": "7XgFkoyefHUH",
        "outputId": "a754f3d4-eb79-4926-eed4-d242a4d97a88",
        "colab": {
          "base_uri": "https://localhost:8080/"
        }
      },
      "execution_count": 88,
      "outputs": [
        {
          "output_type": "stream",
          "name": "stdout",
          "text": [
            "Character Home Location: Jita IV - Moon 4 - Caldari Navy Assembly Plant\n",
            "Jump Clone Location: Umokka X - Moon 4 - Caldari Navy Testing Facilities\n",
            "Jump Clone Implants: []\n"
          ]
        }
      ]
    },
    {
      "cell_type": "markdown",
      "source": [
        "Display Character Standings."
      ],
      "metadata": {
        "id": "Tkbu3gowkKxu"
      }
    },
    {
      "cell_type": "code",
      "source": [
        "access_toke = tokens[\"access_token\"]\n",
        "CHARACTER_STANDINGS_URL = f\"https://esi.evetech.net/latest/characters/{info['CharacterID']}/standings/\"\n",
        "#/characters/{character_id}/standings/\n",
        "req  = requests.get(\n",
        "            CHARACTER_STANDINGS_URL,\n",
        "            headers={\"Authorization\": \"Bearer \" + access_toke},\n",
        "        )\n",
        "standings = req.json()\n",
        "for entry in standings:\n",
        "    if entry['from_type'] == 'npc_corp':\n",
        "        CORP_INFO_URL = f\"https://esi.evetech.net/latest/corporations/{entry['from_id']}/\"\n",
        "#/characters/{character_id}/standings/\n",
        "        req  = requests.get(\n",
        "            CORP_INFO_URL,\n",
        "            headers={\"Authorization\": \"Bearer \" + access_toke},\n",
        "            )\n",
        "        corpinfo = req.json()\n",
        "        print(f\"Corporation: {corpinfo['name']} Standings: {entry['standing']}\")"
      ],
      "metadata": {
        "id": "nkPn58VYih88",
        "outputId": "8fbd438e-9210-43de-82fb-7f8f8b0517ef",
        "colab": {
          "base_uri": "https://localhost:8080/"
        }
      },
      "execution_count": 95,
      "outputs": [
        {
          "output_type": "stream",
          "name": "stdout",
          "text": [
            "[{'from_id': 500001, 'from_type': 'faction', 'standing': 2.747732427}, {'from_id': 500002, 'from_type': 'faction', 'standing': -0.25597551700000004}, {'from_id': 500003, 'from_type': 'faction', 'standing': 1.332182032}, {'from_id': 500004, 'from_type': 'faction', 'standing': -1.867692783}, {'from_id': 500005, 'from_type': 'faction', 'standing': 0.504680789}, {'from_id': 500007, 'from_type': 'faction', 'standing': 1.910837888}, {'from_id': 500008, 'from_type': 'faction', 'standing': 1.955050326}, {'from_id': 500009, 'from_type': 'faction', 'standing': -0.33371736300000004}, {'from_id': 500010, 'from_type': 'faction', 'standing': -2.167218664}, {'from_id': 500011, 'from_type': 'faction', 'standing': -0.38860464100000003}, {'from_id': 500012, 'from_type': 'faction', 'standing': -3.578001946}, {'from_id': 500013, 'from_type': 'faction', 'standing': 0.935635819}, {'from_id': 500014, 'from_type': 'faction', 'standing': -0.6315487240000001}, {'from_id': 500015, 'from_type': 'faction', 'standing': -1.5455422620000001}, {'from_id': 500016, 'from_type': 'faction', 'standing': 0.58808}, {'from_id': 500017, 'from_type': 'faction', 'standing': 0.597873628}, {'from_id': 500018, 'from_type': 'faction', 'standing': 3.561696238}, {'from_id': 500019, 'from_type': 'faction', 'standing': -2.361137806}, {'from_id': 500020, 'from_type': 'faction', 'standing': -1.33173031}, {'from_id': 1000005, 'from_type': 'npc_corp', 'standing': 0.602414695}, {'from_id': 1000035, 'from_type': 'npc_corp', 'standing': 6.014264143}, {'from_id': 1000038, 'from_type': 'npc_corp', 'standing': 0.061888614}, {'from_id': 1000039, 'from_type': 'npc_corp', 'standing': 6.20551353}, {'from_id': 1000044, 'from_type': 'npc_corp', 'standing': 0.338759484}, {'from_id': 1000054, 'from_type': 'npc_corp', 'standing': 0.01715095}, {'from_id': 1000086, 'from_type': 'npc_corp', 'standing': 1.7214742809999999}, {'from_id': 1000126, 'from_type': 'npc_corp', 'standing': 0.060243750000000006}, {'from_id': 1000127, 'from_type': 'npc_corp', 'standing': -0.055053597}, {'from_id': 1000130, 'from_type': 'npc_corp', 'standing': 0.18265292600000002}, {'from_id': 1000135, 'from_type': 'npc_corp', 'standing': -0.008797112000000001}, {'from_id': 1000169, 'from_type': 'npc_corp', 'standing': 2.114556306}, {'from_id': 1000171, 'from_type': 'npc_corp', 'standing': -0.004034727}, {'from_id': 3008771, 'from_type': 'agent', 'standing': 0.33647108000000003}, {'from_id': 3008776, 'from_type': 'agent', 'standing': 0.601784583}, {'from_id': 3008788, 'from_type': 'agent', 'standing': 2.298410569}, {'from_id': 3008789, 'from_type': 'agent', 'standing': 0.659242369}, {'from_id': 3010164, 'from_type': 'agent', 'standing': 0.335738947}, {'from_id': 3010831, 'from_type': 'agent', 'standing': 2.085468749}, {'from_id': 3010857, 'from_type': 'agent', 'standing': 0.07592884100000001}, {'from_id': 3012018, 'from_type': 'agent', 'standing': 5.205895952}, {'from_id': 3012039, 'from_type': 'agent', 'standing': -0.063841042}, {'from_id': 3012062, 'from_type': 'agent', 'standing': 4.733267775}, {'from_id': 3012476, 'from_type': 'agent', 'standing': 0.20009442500000002}, {'from_id': 3013638, 'from_type': 'agent', 'standing': 0.8431253230000001}, {'from_id': 3013792, 'from_type': 'agent', 'standing': 1.400455965}, {'from_id': 3013871, 'from_type': 'agent', 'standing': -0.122920678}, {'from_id': 3014940, 'from_type': 'agent', 'standing': 0.48191329000000005}, {'from_id': 3016808, 'from_type': 'agent', 'standing': 1.444162892}, {'from_id': 3016810, 'from_type': 'agent', 'standing': 1.13770903}, {'from_id': 3016813, 'from_type': 'agent', 'standing': 0.5188243880000001}, {'from_id': 3016815, 'from_type': 'agent', 'standing': 4.620814398}, {'from_id': 3016816, 'from_type': 'agent', 'standing': 4.687688003}, {'from_id': 3016819, 'from_type': 'agent', 'standing': 4.176193455}, {'from_id': 3016826, 'from_type': 'agent', 'standing': 3.13035527}, {'from_id': 3016827, 'from_type': 'agent', 'standing': 0.426788822}, {'from_id': 3016832, 'from_type': 'agent', 'standing': 5.357653136}, {'from_id': 3016836, 'from_type': 'agent', 'standing': 2.089010885}, {'from_id': 3016837, 'from_type': 'agent', 'standing': 1.743930597}, {'from_id': 3016842, 'from_type': 'agent', 'standing': 1.224445704}, {'from_id': 3017124, 'from_type': 'agent', 'standing': 0.0}, {'from_id': 3018926, 'from_type': 'agent', 'standing': 2.627651907}, {'from_id': 3019332, 'from_type': 'agent', 'standing': 1.7191118520000002}, {'from_id': 3019333, 'from_type': 'agent', 'standing': 2.124677243}, {'from_id': 3019356, 'from_type': 'agent', 'standing': 1.415748316}, {'from_id': 3019363, 'from_type': 'agent', 'standing': 0.401625}, {'from_id': 3019368, 'from_type': 'agent', 'standing': 0.511685818}, {'from_id': 3019452, 'from_type': 'agent', 'standing': 0.5241861280000001}, {'from_id': 3019475, 'from_type': 'agent', 'standing': 1.660886032}, {'from_id': 3019497, 'from_type': 'agent', 'standing': 2.565648153}]\n",
            "Corporation: Hyasyoda Corporation Standings: 0.602414695\n",
            "Corporation: Caldari Navy Standings: 6.014264143\n",
            "Corporation: Ishukone Watch Standings: 0.061888614\n",
            "Corporation: Home Guard Standings: 6.20551353\n",
            "Corporation: School of Applied Knowledge Standings: 0.338759484\n",
            "Corporation: Republic Security Services Standings: 0.01715095\n",
            "Corporation: Emperor Family Standings: 1.7214742809999999\n",
            "Corporation: Ammatar Consulate Standings: 0.060243750000000006\n",
            "Corporation: Guristas Standings: -0.055053597\n",
            "Corporation: Sisters of EVE Standings: 0.18265292600000002\n",
            "Corporation: Serpentis Corporation Standings: -0.008797112000000001\n",
            "Corporation: Center for Advanced Studies Standings: 2.114556306\n",
            "Corporation: Republic University Standings: -0.004034727\n"
          ]
        }
      ]
    },
    {
      "cell_type": "markdown",
      "source": [
        "Display Characters Loyalty Points."
      ],
      "metadata": {
        "id": "IkvFpE9DkosJ"
      }
    },
    {
      "cell_type": "code",
      "source": [
        "token = tokens['access_token']\n",
        "#/characters/{character_id}/loyalty/points/\n",
        "LOYALTY_POINT_URL = f\"https://esi.evetech.net/latest/characters/{info['CharacterID']}/loyalty/points/\"\n",
        "req  = requests.get(\n",
        "            LOYALTY_POINT_URL,\n",
        "            headers={\"Authorization\": f\"Bearer {token}\"},\n",
        "            )\n",
        "loyalty_points = req.json()\n",
        "for entry in loyalty_points:\n",
        "    CORP_INFO_URL = f\"https://esi.evetech.net/latest/corporations/{entry['corporation_id']}/\"\n",
        "#/characters/{character_id}/standings/\n",
        "    req  = requests.get(\n",
        "        CORP_INFO_URL,\n",
        "        headers={\"Authorization\": \"Bearer \" + access_toke},\n",
        "        )\n",
        "    corpinfo = req.json()\n",
        "    print(f\"Corporation: {corpinfo['name']} Loyalty Points: {entry['loyalty_points']}\")"
      ],
      "metadata": {
        "id": "FZtVcO5-kRlp",
        "outputId": "fd464b59-80c5-465a-b5af-a4831a71067a",
        "colab": {
          "base_uri": "https://localhost:8080/"
        }
      },
      "execution_count": 96,
      "outputs": [
        {
          "output_type": "stream",
          "name": "stdout",
          "text": [
            "Corporation: Caldari Navy Loyalty Points: 193875\n",
            "Corporation: Republic Security Services Loyalty Points: 67\n",
            "Corporation: Emperor Family Loyalty Points: 26752\n",
            "Corporation: Sisters of EVE Loyalty Points: 93\n",
            "Corporation: Republic University Loyalty Points: 12\n"
          ]
        }
      ]
    },
    {
      "cell_type": "markdown",
      "source": [
        "Display Characters Implants."
      ],
      "metadata": {
        "id": "8s8gC23vk2yS"
      }
    },
    {
      "cell_type": "code",
      "source": [
        "#/characters/{character_id}/implants/\n",
        "IMPLANTS_URL = f\"https://esi.evetech.net/latest/characters/{info['CharacterID']}/implants/\"\n",
        "req  = requests.get(\n",
        "            IMPLANTS_URL,\n",
        "            headers={\"Authorization\": f\"Bearer {token}\"},\n",
        "            )\n",
        "implants = req.json()\n",
        "print(\"Character Implants:\")\n",
        "for implant in implants:\n",
        "\n",
        "    UNIVERSE_TYPES_URL = f\"https://esi.evetech.net/latest/universe/types/{implant}/\"\n",
        "    req  = requests.get(\n",
        "            UNIVERSE_TYPES_URL,\n",
        "            headers={\"Authorization\": \"Bearer \" + access_toke},\n",
        "        )\n",
        "    implant_type = req.json()\n",
        "    print(implant_type['name'])"
      ],
      "metadata": {
        "id": "ruoYB5Cbkt74",
        "outputId": "658e4b21-1d62-4b6a-844a-9cfce29f2999",
        "colab": {
          "base_uri": "https://localhost:8080/"
        }
      },
      "execution_count": 101,
      "outputs": [
        {
          "output_type": "stream",
          "name": "stdout",
          "text": [
            "Character Implants:\n",
            "Zainou 'Beancounter' Reprocessing RX-804\n",
            "Ocular Filter - Improved\n",
            "Memory Augmentation - Improved\n",
            "Neural Boost - Improved\n",
            "Cybernetic Subprocessor - Improved\n"
          ]
        }
      ]
    },
    {
      "cell_type": "code",
      "source": [
        ""
      ],
      "metadata": {
        "id": "vAd7z22_lDIf"
      },
      "execution_count": null,
      "outputs": []
    }
  ],
  "metadata": {
    "colab": {
      "name": "eveskillboard_setup.ipynb",
      "provenance": [],
      "authorship_tag": "ABX9TyMdCoa0mWJ2OcIBQkzxTlzi",
      "include_colab_link": true
    },
    "kernelspec": {
      "display_name": "Python 3",
      "name": "python3"
    },
    "language_info": {
      "name": "python"
    }
  },
  "nbformat": 4,
  "nbformat_minor": 0
}
